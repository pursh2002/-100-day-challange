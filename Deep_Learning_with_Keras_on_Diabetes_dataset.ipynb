{
  "nbformat": 4,
  "nbformat_minor": 0,
  "metadata": {
    "colab": {
      "name": "Deep Learning with Keras on Diabetes dataset ",
      "provenance": [],
      "collapsed_sections": [],
      "toc_visible": true,
      "include_colab_link": true
    },
    "kernelspec": {
      "name": "python3",
      "display_name": "Python 3"
    },
    "accelerator": "GPU"
  },
  "cells": [
    {
      "cell_type": "markdown",
      "metadata": {
        "id": "view-in-github",
        "colab_type": "text"
      },
      "source": [
        "<a href=\"https://colab.research.google.com/github/pursh2002/-100-day-challange/blob/master/Deep_Learning_with_Keras_on_Diabetes_dataset.ipynb\" target=\"_parent\"><img src=\"https://colab.research.google.com/assets/colab-badge.svg\" alt=\"Open In Colab\"/></a>"
      ]
    },
    {
      "cell_type": "code",
      "metadata": {
        "id": "cS3DQN5ZX1Tt",
        "colab_type": "code",
        "colab": {}
      },
      "source": [
        "# https://stackoverflow.com/questions/48493755/keras-attributeerror-list-object-has-no-attribute-ndim"
      ],
      "execution_count": 0,
      "outputs": []
    },
    {
      "cell_type": "code",
      "metadata": {
        "id": "d5VfksgQnPAe",
        "colab_type": "code",
        "outputId": "f5bbbbce-d05b-49a7-c37c-f664278e10f2",
        "colab": {
          "base_uri": "https://localhost:8080/",
          "height": 34
        }
      },
      "source": [
        "cd"
      ],
      "execution_count": 3,
      "outputs": [
        {
          "output_type": "stream",
          "text": [
            "/root\n"
          ],
          "name": "stdout"
        }
      ]
    },
    {
      "cell_type": "code",
      "metadata": {
        "id": "M2UggXhLA8pn",
        "colab_type": "code",
        "colab": {}
      },
      "source": [
        "%reload_ext autoreload\n",
        "%autoreload 2\n",
        "%matplotlib inline"
      ],
      "execution_count": 0,
      "outputs": []
    },
    {
      "cell_type": "code",
      "metadata": {
        "id": "S9YCeXZxBIuf",
        "colab_type": "code",
        "colab": {}
      },
      "source": [
        "!pip install -q matplotlib-venn"
      ],
      "execution_count": 0,
      "outputs": []
    },
    {
      "cell_type": "code",
      "metadata": {
        "id": "wH7WlZVwBKFh",
        "colab_type": "code",
        "colab": {
          "base_uri": "https://localhost:8080/",
          "height": 136
        },
        "outputId": "0f539a34-a7ee-4200-d482-8b958e2e27ce"
      },
      "source": [
        "!apt-get -qq install -y libfluidsynth1"
      ],
      "execution_count": 6,
      "outputs": [
        {
          "output_type": "stream",
          "text": [
            "Selecting previously unselected package libfluidsynth1:amd64.\n",
            "(Reading database ... \r(Reading database ... 5%\r(Reading database ... 10%\r(Reading database ... 15%\r(Reading database ... 20%\r(Reading database ... 25%\r(Reading database ... 30%\r(Reading database ... 35%\r(Reading database ... 40%\r(Reading database ... 45%\r(Reading database ... 50%\r(Reading database ... 55%\r(Reading database ... 60%\r(Reading database ... 65%\r(Reading database ... 70%\r(Reading database ... 75%\r(Reading database ... 80%\r(Reading database ... 85%\r(Reading database ... 90%\r(Reading database ... 95%\r(Reading database ... 100%\r(Reading database ... 131188 files and directories currently installed.)\n",
            "Preparing to unpack .../libfluidsynth1_1.1.9-1_amd64.deb ...\n",
            "Unpacking libfluidsynth1:amd64 (1.1.9-1) ...\n",
            "Processing triggers for libc-bin (2.27-3ubuntu1) ...\n",
            "Setting up libfluidsynth1:amd64 (1.1.9-1) ...\n",
            "Processing triggers for libc-bin (2.27-3ubuntu1) ...\n"
          ],
          "name": "stdout"
        }
      ]
    },
    {
      "cell_type": "code",
      "metadata": {
        "id": "QeJv7THm6EEb",
        "colab_type": "code",
        "colab": {
          "base_uri": "https://localhost:8080/",
          "height": 1000
        },
        "outputId": "87bf6143-2fe7-4c46-ca3e-4c24f8882edd"
      },
      "source": [
        "# To determine which version you're using:\n",
        "!pip show tensorflow\n",
        "\n",
        "# For the current version: \n",
        "!pip install --upgrade tensorflow\n",
        "\n",
        "# For a specific version:\n",
        "!pip install tensorflow==1.2\n",
        "\n",
        "# For the latest nightly build:\n",
        "!pip install tf-nightly"
      ],
      "execution_count": 7,
      "outputs": [
        {
          "output_type": "stream",
          "text": [
            "Name: tensorflow\n",
            "Version: 1.2.0\n",
            "Summary: TensorFlow helps the tensors flow\n",
            "Home-page: http://tensorflow.org/\n",
            "Author: Google Inc.\n",
            "Author-email: opensource@google.com\n",
            "License: Apache 2.0\n",
            "Location: /usr/local/lib/python3.6/dist-packages\n",
            "Requires: protobuf, markdown, bleach, backports.weakref, wheel, numpy, werkzeug, html5lib, six\n",
            "Required-by: stable-baselines, magenta, fancyimpute\n",
            "Collecting tensorflow\n",
            "  Using cached https://files.pythonhosted.org/packages/46/0f/7bd55361168bb32796b360ad15a25de6966c9c1beb58a8e30c01c8279862/tensorflow-2.0.0-cp36-cp36m-manylinux2010_x86_64.whl\n",
            "Requirement already satisfied, skipping upgrade: tensorflow-estimator<2.1.0,>=2.0.0 in /usr/local/lib/python3.6/dist-packages (from tensorflow) (2.0.0)\n",
            "Requirement already satisfied, skipping upgrade: absl-py>=0.7.0 in /usr/local/lib/python3.6/dist-packages (from tensorflow) (0.8.0)\n",
            "Requirement already satisfied, skipping upgrade: keras-applications>=1.0.8 in /usr/local/lib/python3.6/dist-packages (from tensorflow) (1.0.8)\n",
            "Requirement already satisfied, skipping upgrade: tensorboard<2.1.0,>=2.0.0 in /usr/local/lib/python3.6/dist-packages (from tensorflow) (2.0.0)\n",
            "Requirement already satisfied, skipping upgrade: six>=1.10.0 in /usr/local/lib/python3.6/dist-packages (from tensorflow) (1.12.0)\n",
            "Requirement already satisfied, skipping upgrade: numpy<2.0,>=1.16.0 in /usr/local/lib/python3.6/dist-packages (from tensorflow) (1.16.5)\n",
            "Requirement already satisfied, skipping upgrade: grpcio>=1.8.6 in /usr/local/lib/python3.6/dist-packages (from tensorflow) (1.15.0)\n",
            "Requirement already satisfied, skipping upgrade: wrapt>=1.11.1 in /usr/local/lib/python3.6/dist-packages (from tensorflow) (1.11.2)\n",
            "Requirement already satisfied, skipping upgrade: wheel>=0.26 in /usr/local/lib/python3.6/dist-packages (from tensorflow) (0.33.6)\n",
            "Requirement already satisfied, skipping upgrade: gast==0.2.2 in /usr/local/lib/python3.6/dist-packages (from tensorflow) (0.2.2)\n",
            "Requirement already satisfied, skipping upgrade: keras-preprocessing>=1.0.5 in /usr/local/lib/python3.6/dist-packages (from tensorflow) (1.1.0)\n",
            "Requirement already satisfied, skipping upgrade: protobuf>=3.6.1 in /usr/local/lib/python3.6/dist-packages (from tensorflow) (3.7.1)\n",
            "Requirement already satisfied, skipping upgrade: termcolor>=1.1.0 in /usr/local/lib/python3.6/dist-packages (from tensorflow) (1.1.0)\n",
            "Requirement already satisfied, skipping upgrade: google-pasta>=0.1.6 in /usr/local/lib/python3.6/dist-packages (from tensorflow) (0.1.7)\n",
            "Requirement already satisfied, skipping upgrade: astor>=0.6.0 in /usr/local/lib/python3.6/dist-packages (from tensorflow) (0.8.0)\n",
            "Requirement already satisfied, skipping upgrade: opt-einsum>=2.3.2 in /usr/local/lib/python3.6/dist-packages (from tensorflow) (3.0.1)\n",
            "Requirement already satisfied, skipping upgrade: h5py in /usr/local/lib/python3.6/dist-packages (from keras-applications>=1.0.8->tensorflow) (2.8.0)\n",
            "Requirement already satisfied, skipping upgrade: markdown>=2.6.8 in /usr/local/lib/python3.6/dist-packages (from tensorboard<2.1.0,>=2.0.0->tensorflow) (3.1.1)\n",
            "Requirement already satisfied, skipping upgrade: setuptools>=41.0.0 in /usr/local/lib/python3.6/dist-packages (from tensorboard<2.1.0,>=2.0.0->tensorflow) (41.2.0)\n",
            "Requirement already satisfied, skipping upgrade: werkzeug>=0.11.15 in /usr/local/lib/python3.6/dist-packages (from tensorboard<2.1.0,>=2.0.0->tensorflow) (0.16.0)\n",
            "Installing collected packages: tensorflow\n",
            "  Found existing installation: tensorflow 1.2.0\n",
            "    Uninstalling tensorflow-1.2.0:\n",
            "      Successfully uninstalled tensorflow-1.2.0\n",
            "Successfully installed tensorflow-2.0.0\n"
          ],
          "name": "stdout"
        },
        {
          "output_type": "display_data",
          "data": {
            "application/vnd.colab-display-data+json": {
              "pip_warning": {
                "packages": [
                  "tensorflow",
                  "tensorflow_core"
                ]
              }
            }
          },
          "metadata": {
            "tags": []
          }
        },
        {
          "output_type": "stream",
          "text": [
            "Collecting tensorflow==1.2\n",
            "  Using cached https://files.pythonhosted.org/packages/5e/55/7995cc1e9e60fa37ea90e6777d832e75026fde5c6109215d892aaff2e9b7/tensorflow-1.2.0-cp36-cp36m-manylinux1_x86_64.whl\n",
            "Requirement already satisfied: numpy>=1.11.0 in /usr/local/lib/python3.6/dist-packages (from tensorflow==1.2) (1.16.5)\n",
            "Requirement already satisfied: werkzeug>=0.11.10 in /usr/local/lib/python3.6/dist-packages (from tensorflow==1.2) (0.16.0)\n",
            "Requirement already satisfied: backports.weakref==1.0rc1 in /usr/local/lib/python3.6/dist-packages (from tensorflow==1.2) (1.0rc1)\n",
            "Requirement already satisfied: wheel>=0.26 in /usr/local/lib/python3.6/dist-packages (from tensorflow==1.2) (0.33.6)\n",
            "Requirement already satisfied: bleach==1.5.0 in /usr/local/lib/python3.6/dist-packages (from tensorflow==1.2) (1.5.0)\n",
            "Requirement already satisfied: html5lib==0.9999999 in /usr/local/lib/python3.6/dist-packages (from tensorflow==1.2) (0.9999999)\n",
            "Requirement already satisfied: six>=1.10.0 in /usr/local/lib/python3.6/dist-packages (from tensorflow==1.2) (1.12.0)\n",
            "Collecting markdown==2.2.0 (from tensorflow==1.2)\n",
            "Requirement already satisfied: protobuf>=3.2.0 in /usr/local/lib/python3.6/dist-packages (from tensorflow==1.2) (3.7.1)\n",
            "Requirement already satisfied: setuptools in /usr/local/lib/python3.6/dist-packages (from protobuf>=3.2.0->tensorflow==1.2) (41.2.0)\n",
            "\u001b[31mERROR: tensorboard 2.0.0 has requirement markdown>=2.6.8, but you'll have markdown 2.2.0 which is incompatible.\u001b[0m\n",
            "\u001b[31mERROR: tb-nightly 1.15.0a20190911 has requirement markdown>=2.6.8, but you'll have markdown 2.2.0 which is incompatible.\u001b[0m\n",
            "\u001b[31mERROR: stable-baselines 2.2.1 has requirement tensorflow>=1.5.0, but you'll have tensorflow 1.2.0 which is incompatible.\u001b[0m\n",
            "\u001b[31mERROR: magenta 0.3.19 has requirement tensorflow>=1.12.0, but you'll have tensorflow 1.2.0 which is incompatible.\u001b[0m\n",
            "Installing collected packages: markdown, tensorflow\n",
            "  Found existing installation: Markdown 3.1.1\n",
            "    Uninstalling Markdown-3.1.1:\n",
            "      Successfully uninstalled Markdown-3.1.1\n",
            "  Found existing installation: tensorflow 2.0.0\n",
            "    Uninstalling tensorflow-2.0.0:\n",
            "      Successfully uninstalled tensorflow-2.0.0\n",
            "Successfully installed markdown-2.2.0 tensorflow-1.2.0\n"
          ],
          "name": "stdout"
        },
        {
          "output_type": "display_data",
          "data": {
            "application/vnd.colab-display-data+json": {
              "pip_warning": {
                "packages": [
                  "tensorflow"
                ]
              }
            }
          },
          "metadata": {
            "tags": []
          }
        },
        {
          "output_type": "stream",
          "text": [
            "Requirement already satisfied: tf-nightly in /usr/local/lib/python3.6/dist-packages (1.15.0.dev20190821)\n",
            "Requirement already satisfied: termcolor>=1.1.0 in /usr/local/lib/python3.6/dist-packages (from tf-nightly) (1.1.0)\n",
            "Requirement already satisfied: keras-preprocessing>=1.0.5 in /usr/local/lib/python3.6/dist-packages (from tf-nightly) (1.1.0)\n",
            "Requirement already satisfied: astor>=0.6.0 in /usr/local/lib/python3.6/dist-packages (from tf-nightly) (0.8.0)\n",
            "Requirement already satisfied: absl-py>=0.7.0 in /usr/local/lib/python3.6/dist-packages (from tf-nightly) (0.8.0)\n",
            "Requirement already satisfied: opt-einsum>=2.3.2 in /usr/local/lib/python3.6/dist-packages (from tf-nightly) (3.0.1)\n",
            "Requirement already satisfied: protobuf>=3.6.1 in /usr/local/lib/python3.6/dist-packages (from tf-nightly) (3.7.1)\n",
            "Requirement already satisfied: tf-estimator-nightly in /usr/local/lib/python3.6/dist-packages (from tf-nightly) (2.0.0.dev2019100101)\n",
            "Requirement already satisfied: google-pasta>=0.1.6 in /usr/local/lib/python3.6/dist-packages (from tf-nightly) (0.1.7)\n",
            "Requirement already satisfied: tb-nightly<1.16.0a0,>=1.15.0a0 in /usr/local/lib/python3.6/dist-packages (from tf-nightly) (1.15.0a20190911)\n",
            "Requirement already satisfied: wheel>=0.26 in /usr/local/lib/python3.6/dist-packages (from tf-nightly) (0.33.6)\n",
            "Requirement already satisfied: wrapt>=1.11.1 in /usr/local/lib/python3.6/dist-packages (from tf-nightly) (1.11.2)\n",
            "Requirement already satisfied: grpcio>=1.8.6 in /usr/local/lib/python3.6/dist-packages (from tf-nightly) (1.15.0)\n",
            "Requirement already satisfied: gast>=0.2.0 in /usr/local/lib/python3.6/dist-packages (from tf-nightly) (0.2.2)\n",
            "Requirement already satisfied: numpy<2.0,>=1.16.0 in /usr/local/lib/python3.6/dist-packages (from tf-nightly) (1.16.5)\n",
            "Requirement already satisfied: keras-applications>=1.0.8 in /usr/local/lib/python3.6/dist-packages (from tf-nightly) (1.0.8)\n",
            "Requirement already satisfied: six>=1.10.0 in /usr/local/lib/python3.6/dist-packages (from tf-nightly) (1.12.0)\n",
            "Requirement already satisfied: setuptools in /usr/local/lib/python3.6/dist-packages (from protobuf>=3.6.1->tf-nightly) (41.2.0)\n",
            "Collecting markdown>=2.6.8 (from tb-nightly<1.16.0a0,>=1.15.0a0->tf-nightly)\n",
            "  Using cached https://files.pythonhosted.org/packages/c0/4e/fd492e91abdc2d2fcb70ef453064d980688762079397f779758e055f6575/Markdown-3.1.1-py2.py3-none-any.whl\n",
            "Requirement already satisfied: werkzeug>=0.11.15 in /usr/local/lib/python3.6/dist-packages (from tb-nightly<1.16.0a0,>=1.15.0a0->tf-nightly) (0.16.0)\n",
            "Requirement already satisfied: h5py in /usr/local/lib/python3.6/dist-packages (from keras-applications>=1.0.8->tf-nightly) (2.8.0)\n",
            "\u001b[31mERROR: tensorflow 1.2.0 has requirement markdown==2.2.0, but you'll have markdown 3.1.1 which is incompatible.\u001b[0m\n",
            "\u001b[31mERROR: stable-baselines 2.2.1 has requirement tensorflow>=1.5.0, but you'll have tensorflow 1.2.0 which is incompatible.\u001b[0m\n",
            "\u001b[31mERROR: magenta 0.3.19 has requirement tensorflow>=1.12.0, but you'll have tensorflow 1.2.0 which is incompatible.\u001b[0m\n",
            "Installing collected packages: markdown\n",
            "  Found existing installation: Markdown 2.2.0\n",
            "    Uninstalling Markdown-2.2.0:\n",
            "      Successfully uninstalled Markdown-2.2.0\n",
            "Successfully installed markdown-3.1.1\n"
          ],
          "name": "stdout"
        }
      ]
    },
    {
      "cell_type": "code",
      "metadata": {
        "id": "dL1-4ayq6ST-",
        "colab_type": "code",
        "colab": {
          "base_uri": "https://localhost:8080/",
          "height": 221
        },
        "outputId": "84cfce56-8a53-409a-b120-80ff0b6f15e2"
      },
      "source": [
        "!apt-get -qq install -y libarchive-dev && pip install -q -U libarchive\n",
        "import libarchive"
      ],
      "execution_count": 8,
      "outputs": [
        {
          "output_type": "stream",
          "text": [
            "(Reading database ... \r(Reading database ... 5%\r(Reading database ... 10%\r(Reading database ... 15%\r(Reading database ... 20%\r(Reading database ... 25%\r(Reading database ... 30%\r(Reading database ... 35%\r(Reading database ... 40%\r(Reading database ... 45%\r(Reading database ... 50%\r(Reading database ... 55%\r(Reading database ... 60%\r(Reading database ... 65%\r(Reading database ... 70%\r(Reading database ... 75%\r(Reading database ... 80%\r(Reading database ... 85%\r(Reading database ... 90%\r(Reading database ... 95%\r(Reading database ... 100%\r(Reading database ... 131193 files and directories currently installed.)\n",
            "Preparing to unpack .../libarchive13_3.2.2-3.1ubuntu0.4_amd64.deb ...\n",
            "Unpacking libarchive13:amd64 (3.2.2-3.1ubuntu0.4) over (3.2.2-3.1ubuntu0.3) ...\n",
            "Selecting previously unselected package libarchive-dev:amd64.\n",
            "Preparing to unpack .../libarchive-dev_3.2.2-3.1ubuntu0.4_amd64.deb ...\n",
            "Unpacking libarchive-dev:amd64 (3.2.2-3.1ubuntu0.4) ...\n",
            "Setting up libarchive13:amd64 (3.2.2-3.1ubuntu0.4) ...\n",
            "Processing triggers for libc-bin (2.27-3ubuntu1) ...\n",
            "Processing triggers for man-db (2.8.3-2ubuntu0.1) ...\n",
            "Setting up libarchive-dev:amd64 (3.2.2-3.1ubuntu0.4) ...\n",
            "\u001b[K     |████████████████████████████████| 163kB 6.6MB/s \n",
            "\u001b[?25h  Building wheel for libarchive (setup.py) ... \u001b[?25l\u001b[?25hdone\n"
          ],
          "name": "stdout"
        }
      ]
    },
    {
      "cell_type": "code",
      "metadata": {
        "id": "uqYoKXtR6ZQM",
        "colab_type": "code",
        "colab": {}
      },
      "source": [
        "!apt-get -qq install -y graphviz && pip install -q pydot\n",
        "import pydot"
      ],
      "execution_count": 0,
      "outputs": []
    },
    {
      "cell_type": "code",
      "metadata": {
        "id": "_GqUbaH0oKFJ",
        "colab_type": "code",
        "colab": {}
      },
      "source": [
        "!mkdir -p drive\n",
        "!google-drive-ocamlfuse drive"
      ],
      "execution_count": 0,
      "outputs": []
    },
    {
      "cell_type": "code",
      "metadata": {
        "id": "6Rhj3O336do_",
        "colab_type": "code",
        "colab": {
          "base_uri": "https://localhost:8080/",
          "height": 714
        },
        "outputId": "b1f3201a-0d36-4d59-d52b-81a24d38acaf"
      },
      "source": [
        "!apt-get -qq install python-cartopy python3-cartopy\n",
        "import cartopy"
      ],
      "execution_count": 10,
      "outputs": [
        {
          "output_type": "stream",
          "text": [
            "Selecting previously unselected package python-pkg-resources.\n",
            "(Reading database ... \r(Reading database ... 5%\r(Reading database ... 10%\r(Reading database ... 15%\r(Reading database ... 20%\r(Reading database ... 25%\r(Reading database ... 30%\r(Reading database ... 35%\r(Reading database ... 40%\r(Reading database ... 45%\r(Reading database ... 50%\r(Reading database ... 55%\r(Reading database ... 60%\r(Reading database ... 65%\r(Reading database ... 70%\r(Reading database ... 75%\r(Reading database ... 80%\r(Reading database ... 85%\r(Reading database ... 90%\r(Reading database ... 95%\r(Reading database ... 100%\r(Reading database ... 131249 files and directories currently installed.)\n",
            "Preparing to unpack .../0-python-pkg-resources_39.0.1-2_all.deb ...\n",
            "Unpacking python-pkg-resources (39.0.1-2) ...\n",
            "Selecting previously unselected package python-pyshp.\n",
            "Preparing to unpack .../1-python-pyshp_1.2.12+ds-1_all.deb ...\n",
            "Unpacking python-pyshp (1.2.12+ds-1) ...\n",
            "Selecting previously unselected package python-shapely.\n",
            "Preparing to unpack .../2-python-shapely_1.6.4-1_amd64.deb ...\n",
            "Unpacking python-shapely (1.6.4-1) ...\n",
            "Selecting previously unselected package python-six.\n",
            "Preparing to unpack .../3-python-six_1.11.0-2_all.deb ...\n",
            "Unpacking python-six (1.11.0-2) ...\n",
            "Selecting previously unselected package python-cartopy:amd64.\n",
            "Preparing to unpack .../4-python-cartopy_0.14.2+dfsg1-2build3_amd64.deb ...\n",
            "Unpacking python-cartopy:amd64 (0.14.2+dfsg1-2build3) ...\n",
            "Selecting previously unselected package python3-pkg-resources.\n",
            "Preparing to unpack .../5-python3-pkg-resources_39.0.1-2_all.deb ...\n",
            "Unpacking python3-pkg-resources (39.0.1-2) ...\n",
            "Selecting previously unselected package python3-pyshp.\n",
            "Preparing to unpack .../6-python3-pyshp_1.2.12+ds-1_all.deb ...\n",
            "Unpacking python3-pyshp (1.2.12+ds-1) ...\n",
            "Selecting previously unselected package python3-shapely.\n",
            "Preparing to unpack .../7-python3-shapely_1.6.4-1_amd64.deb ...\n",
            "Unpacking python3-shapely (1.6.4-1) ...\n",
            "Selecting previously unselected package python3-six.\n",
            "Preparing to unpack .../8-python3-six_1.11.0-2_all.deb ...\n",
            "Unpacking python3-six (1.11.0-2) ...\n",
            "Selecting previously unselected package python3-cartopy:amd64.\n",
            "Preparing to unpack .../9-python3-cartopy_0.14.2+dfsg1-2build3_amd64.deb ...\n",
            "Unpacking python3-cartopy:amd64 (0.14.2+dfsg1-2build3) ...\n",
            "Setting up python-shapely (1.6.4-1) ...\n",
            "Setting up python-pyshp (1.2.12+ds-1) ...\n",
            "Setting up python3-six (1.11.0-2) ...\n",
            "Setting up python3-shapely (1.6.4-1) ...\n",
            "Setting up python3-pyshp (1.2.12+ds-1) ...\n",
            "Setting up python3-pkg-resources (39.0.1-2) ...\n",
            "Setting up python-pkg-resources (39.0.1-2) ...\n",
            "Setting up python-six (1.11.0-2) ...\n",
            "Setting up python3-cartopy:amd64 (0.14.2+dfsg1-2build3) ...\n",
            "Setting up python-cartopy:amd64 (0.14.2+dfsg1-2build3) ...\n"
          ],
          "name": "stdout"
        }
      ]
    },
    {
      "cell_type": "markdown",
      "metadata": {
        "id": "prj1G5qP2VHf",
        "colab_type": "text"
      },
      "source": [
        ""
      ]
    },
    {
      "cell_type": "code",
      "metadata": {
        "id": "GFNzNa149-ot",
        "colab_type": "code",
        "colab": {}
      },
      "source": [
        "!apt-get -qq install -y libsm6 libxext6 && pip install -q -U opencv-python\n",
        "import cv2"
      ],
      "execution_count": 0,
      "outputs": []
    },
    {
      "cell_type": "code",
      "metadata": {
        "id": "XFk9fUr_CUfF",
        "colab_type": "code",
        "colab": {}
      },
      "source": [
        "!pip install -q keras\n",
        "import keras"
      ],
      "execution_count": 0,
      "outputs": []
    },
    {
      "cell_type": "code",
      "metadata": {
        "id": "4ZiHmgnzi6SM",
        "colab_type": "code",
        "outputId": "ca8b0de2-bfc8-4ae8-c2c9-1e3142bf02fc",
        "colab": {
          "base_uri": "https://localhost:8080/",
          "height": 34
        }
      },
      "source": [
        "cd"
      ],
      "execution_count": 13,
      "outputs": [
        {
          "output_type": "stream",
          "text": [
            "/root\n"
          ],
          "name": "stdout"
        }
      ]
    },
    {
      "cell_type": "markdown",
      "metadata": {
        "id": "dh_l-sCBfMN_",
        "colab_type": "text"
      },
      "source": [
        "### Load Data "
      ]
    },
    {
      "cell_type": "code",
      "metadata": {
        "id": "2FBhnHip1i__",
        "colab_type": "code",
        "outputId": "547808b3-6332-4d18-e3be-13c13d704963",
        "colab": {
          "base_uri": "https://localhost:8080/",
          "height": 34
        }
      },
      "source": [
        "ls"
      ],
      "execution_count": 14,
      "outputs": [
        {
          "output_type": "stream",
          "text": [
            "\u001b[0m\u001b[01;34mdrive\u001b[0m/  pima-indians-diabetes.data.csv\n"
          ],
          "name": "stdout"
        }
      ]
    },
    {
      "cell_type": "code",
      "metadata": {
        "id": "a-N6ssQ04B9w",
        "colab_type": "code",
        "colab": {}
      },
      "source": [
        "#!wget https://raw.githubusercontent.com/jbrownlee/Datasets/master/pima-indians-diabetes.data.csv"
      ],
      "execution_count": 0,
      "outputs": []
    },
    {
      "cell_type": "code",
      "metadata": {
        "id": "4YUmXWMu1UNY",
        "colab_type": "code",
        "colab": {
          "base_uri": "https://localhost:8080/",
          "height": 34
        },
        "outputId": "4af17cff-ab00-4227-a760-b4b03d035b70"
      },
      "source": [
        "ls"
      ],
      "execution_count": 16,
      "outputs": [
        {
          "output_type": "stream",
          "text": [
            "\u001b[0m\u001b[01;34mdrive\u001b[0m/  pima-indians-diabetes.data.csv\n"
          ],
          "name": "stdout"
        }
      ]
    },
    {
      "cell_type": "code",
      "metadata": {
        "id": "xO5BZvuGUJok",
        "colab_type": "code",
        "colab": {}
      },
      "source": [
        "%matplotlib inline\n",
        "import numpy as np\n",
        "import pandas as pd\n",
        "import datetime as dt\n",
        "import matplotlib.pyplot as plt\n",
        "from numpy import loadtxt\n",
        "from keras.models import Sequential\n",
        "from keras.layers import Dense"
      ],
      "execution_count": 0,
      "outputs": []
    },
    {
      "cell_type": "code",
      "metadata": {
        "id": "vSyfLvHp8qxO",
        "colab_type": "code",
        "colab": {
          "base_uri": "https://localhost:8080/",
          "height": 34
        },
        "outputId": "ad61a94f-c626-439a-e455-b800d9129cf3"
      },
      "source": [
        "label_csv = f'{PATH}labels.csv'\n",
        "label_csv"
      ],
      "execution_count": 29,
      "outputs": [
        {
          "output_type": "execute_result",
          "data": {
            "text/plain": [
              "'/root/pima-indians-diabetes.data.csvlabels.csv'"
            ]
          },
          "metadata": {
            "tags": []
          },
          "execution_count": 29
        }
      ]
    },
    {
      "cell_type": "code",
      "metadata": {
        "id": "QpAAtkfQfW9f",
        "colab_type": "code",
        "colab": {}
      },
      "source": [
        ""
      ],
      "execution_count": 0,
      "outputs": []
    },
    {
      "cell_type": "markdown",
      "metadata": {
        "id": "UKhzra1ZfYhw",
        "colab_type": "text"
      },
      "source": [
        "## EXPLORE THE  DATA"
      ]
    },
    {
      "cell_type": "code",
      "metadata": {
        "id": "-Fe4Z8qX895C",
        "colab_type": "code",
        "colab": {}
      },
      "source": [
        "user_col = ['No_ts_preg','Plas_gluc_2hrs','Di_blood_press','Triceps_skin_thickn','2hrs_ser_insul','Bdy_mas_ind','Dia_pedi_funct','Age']"
      ],
      "execution_count": 0,
      "outputs": []
    },
    {
      "cell_type": "code",
      "metadata": {
        "id": "40iRj89_BILc",
        "colab_type": "code",
        "colab": {
          "base_uri": "https://localhost:8080/",
          "height": 204
        },
        "outputId": "2f830ef9-4ebf-46c9-8953-917a3230abbd"
      },
      "source": [
        "PATH = \"/root/pima-indians-diabetes.data.csv\"\n",
        "c = pd.read_csv(PATH, sep=',', header=None, names = user_col)\n",
        "c.head()"
      ],
      "execution_count": 71,
      "outputs": [
        {
          "output_type": "execute_result",
          "data": {
            "text/html": [
              "<div>\n",
              "<style scoped>\n",
              "    .dataframe tbody tr th:only-of-type {\n",
              "        vertical-align: middle;\n",
              "    }\n",
              "\n",
              "    .dataframe tbody tr th {\n",
              "        vertical-align: top;\n",
              "    }\n",
              "\n",
              "    .dataframe thead th {\n",
              "        text-align: right;\n",
              "    }\n",
              "</style>\n",
              "<table border=\"1\" class=\"dataframe\">\n",
              "  <thead>\n",
              "    <tr style=\"text-align: right;\">\n",
              "      <th></th>\n",
              "      <th>No_ts_preg</th>\n",
              "      <th>Plas_gluc_2hrs</th>\n",
              "      <th>Di_blood_press</th>\n",
              "      <th>Triceps_skin_thickn</th>\n",
              "      <th>2hrs_ser_insul</th>\n",
              "      <th>Bdy_mas_ind</th>\n",
              "      <th>Dia_pedi_funct</th>\n",
              "      <th>Age</th>\n",
              "    </tr>\n",
              "  </thead>\n",
              "  <tbody>\n",
              "    <tr>\n",
              "      <th>6</th>\n",
              "      <td>148</td>\n",
              "      <td>72</td>\n",
              "      <td>35</td>\n",
              "      <td>0</td>\n",
              "      <td>33.6</td>\n",
              "      <td>0.627</td>\n",
              "      <td>50</td>\n",
              "      <td>1</td>\n",
              "    </tr>\n",
              "    <tr>\n",
              "      <th>1</th>\n",
              "      <td>85</td>\n",
              "      <td>66</td>\n",
              "      <td>29</td>\n",
              "      <td>0</td>\n",
              "      <td>26.6</td>\n",
              "      <td>0.351</td>\n",
              "      <td>31</td>\n",
              "      <td>0</td>\n",
              "    </tr>\n",
              "    <tr>\n",
              "      <th>8</th>\n",
              "      <td>183</td>\n",
              "      <td>64</td>\n",
              "      <td>0</td>\n",
              "      <td>0</td>\n",
              "      <td>23.3</td>\n",
              "      <td>0.672</td>\n",
              "      <td>32</td>\n",
              "      <td>1</td>\n",
              "    </tr>\n",
              "    <tr>\n",
              "      <th>1</th>\n",
              "      <td>89</td>\n",
              "      <td>66</td>\n",
              "      <td>23</td>\n",
              "      <td>94</td>\n",
              "      <td>28.1</td>\n",
              "      <td>0.167</td>\n",
              "      <td>21</td>\n",
              "      <td>0</td>\n",
              "    </tr>\n",
              "    <tr>\n",
              "      <th>0</th>\n",
              "      <td>137</td>\n",
              "      <td>40</td>\n",
              "      <td>35</td>\n",
              "      <td>168</td>\n",
              "      <td>43.1</td>\n",
              "      <td>2.288</td>\n",
              "      <td>33</td>\n",
              "      <td>1</td>\n",
              "    </tr>\n",
              "  </tbody>\n",
              "</table>\n",
              "</div>"
            ],
            "text/plain": [
              "   No_ts_preg  Plas_gluc_2hrs  Di_blood_press  ...  Bdy_mas_ind  Dia_pedi_funct  Age\n",
              "6         148              72              35  ...        0.627              50    1\n",
              "1          85              66              29  ...        0.351              31    0\n",
              "8         183              64               0  ...        0.672              32    1\n",
              "1          89              66              23  ...        0.167              21    0\n",
              "0         137              40              35  ...        2.288              33    1\n",
              "\n",
              "[5 rows x 8 columns]"
            ]
          },
          "metadata": {
            "tags": []
          },
          "execution_count": 71
        }
      ]
    },
    {
      "cell_type": "markdown",
      "metadata": {
        "id": "-eAA0VI1HSzp",
        "colab_type": "text"
      },
      "source": [
        ""
      ]
    },
    {
      "cell_type": "code",
      "metadata": {
        "id": "l0Xeb1Gp77Ao",
        "colab_type": "code",
        "colab": {
          "base_uri": "https://localhost:8080/",
          "height": 34
        },
        "outputId": "2808a9cb-70dd-44b1-c7d8-6ceb24bc4c2f"
      },
      "source": [
        "c.shape"
      ],
      "execution_count": 45,
      "outputs": [
        {
          "output_type": "execute_result",
          "data": {
            "text/plain": [
              "(768, 8)"
            ]
          },
          "metadata": {
            "tags": []
          },
          "execution_count": 45
        }
      ]
    },
    {
      "cell_type": "code",
      "metadata": {
        "id": "ujTtgUx4A0-p",
        "colab_type": "code",
        "colab": {
          "base_uri": "https://localhost:8080/",
          "height": 34
        },
        "outputId": "0cf0b468-b8b2-43f1-df18-620a14c135d3"
      },
      "source": [
        "c.index.unique()"
      ],
      "execution_count": 49,
      "outputs": [
        {
          "output_type": "execute_result",
          "data": {
            "text/plain": [
              "Int64Index([6, 1, 8, 0, 5, 3, 10, 2, 4, 7, 9, 11, 13, 15, 17, 12, 14], dtype='int64')"
            ]
          },
          "metadata": {
            "tags": []
          },
          "execution_count": 49
        }
      ]
    },
    {
      "cell_type": "code",
      "metadata": {
        "id": "eigTTuKRCW7u",
        "colab_type": "code",
        "colab": {
          "base_uri": "https://localhost:8080/",
          "height": 317
        },
        "outputId": "3017ba6d-9547-40fe-e922-95c6399c87fa"
      },
      "source": [
        "c.describe()"
      ],
      "execution_count": 50,
      "outputs": [
        {
          "output_type": "execute_result",
          "data": {
            "text/html": [
              "<div>\n",
              "<style scoped>\n",
              "    .dataframe tbody tr th:only-of-type {\n",
              "        vertical-align: middle;\n",
              "    }\n",
              "\n",
              "    .dataframe tbody tr th {\n",
              "        vertical-align: top;\n",
              "    }\n",
              "\n",
              "    .dataframe thead th {\n",
              "        text-align: right;\n",
              "    }\n",
              "</style>\n",
              "<table border=\"1\" class=\"dataframe\">\n",
              "  <thead>\n",
              "    <tr style=\"text-align: right;\">\n",
              "      <th></th>\n",
              "      <th>No_ts_preg</th>\n",
              "      <th>Plas_gluc_2hrs</th>\n",
              "      <th>Di_blood_press</th>\n",
              "      <th>Triceps_skin_thickn</th>\n",
              "      <th>2hrs_ser_insul</th>\n",
              "      <th>Bdy_mas_ind</th>\n",
              "      <th>Dia_pedi_funct</th>\n",
              "      <th>Age</th>\n",
              "    </tr>\n",
              "  </thead>\n",
              "  <tbody>\n",
              "    <tr>\n",
              "      <th>count</th>\n",
              "      <td>768.000000</td>\n",
              "      <td>768.000000</td>\n",
              "      <td>768.000000</td>\n",
              "      <td>768.000000</td>\n",
              "      <td>768.000000</td>\n",
              "      <td>768.000000</td>\n",
              "      <td>768.000000</td>\n",
              "      <td>768.000000</td>\n",
              "    </tr>\n",
              "    <tr>\n",
              "      <th>mean</th>\n",
              "      <td>120.894531</td>\n",
              "      <td>69.105469</td>\n",
              "      <td>20.536458</td>\n",
              "      <td>79.799479</td>\n",
              "      <td>31.992578</td>\n",
              "      <td>0.471876</td>\n",
              "      <td>33.240885</td>\n",
              "      <td>0.348958</td>\n",
              "    </tr>\n",
              "    <tr>\n",
              "      <th>std</th>\n",
              "      <td>31.972618</td>\n",
              "      <td>19.355807</td>\n",
              "      <td>15.952218</td>\n",
              "      <td>115.244002</td>\n",
              "      <td>7.884160</td>\n",
              "      <td>0.331329</td>\n",
              "      <td>11.760232</td>\n",
              "      <td>0.476951</td>\n",
              "    </tr>\n",
              "    <tr>\n",
              "      <th>min</th>\n",
              "      <td>0.000000</td>\n",
              "      <td>0.000000</td>\n",
              "      <td>0.000000</td>\n",
              "      <td>0.000000</td>\n",
              "      <td>0.000000</td>\n",
              "      <td>0.078000</td>\n",
              "      <td>21.000000</td>\n",
              "      <td>0.000000</td>\n",
              "    </tr>\n",
              "    <tr>\n",
              "      <th>25%</th>\n",
              "      <td>99.000000</td>\n",
              "      <td>62.000000</td>\n",
              "      <td>0.000000</td>\n",
              "      <td>0.000000</td>\n",
              "      <td>27.300000</td>\n",
              "      <td>0.243750</td>\n",
              "      <td>24.000000</td>\n",
              "      <td>0.000000</td>\n",
              "    </tr>\n",
              "    <tr>\n",
              "      <th>50%</th>\n",
              "      <td>117.000000</td>\n",
              "      <td>72.000000</td>\n",
              "      <td>23.000000</td>\n",
              "      <td>30.500000</td>\n",
              "      <td>32.000000</td>\n",
              "      <td>0.372500</td>\n",
              "      <td>29.000000</td>\n",
              "      <td>0.000000</td>\n",
              "    </tr>\n",
              "    <tr>\n",
              "      <th>75%</th>\n",
              "      <td>140.250000</td>\n",
              "      <td>80.000000</td>\n",
              "      <td>32.000000</td>\n",
              "      <td>127.250000</td>\n",
              "      <td>36.600000</td>\n",
              "      <td>0.626250</td>\n",
              "      <td>41.000000</td>\n",
              "      <td>1.000000</td>\n",
              "    </tr>\n",
              "    <tr>\n",
              "      <th>max</th>\n",
              "      <td>199.000000</td>\n",
              "      <td>122.000000</td>\n",
              "      <td>99.000000</td>\n",
              "      <td>846.000000</td>\n",
              "      <td>67.100000</td>\n",
              "      <td>2.420000</td>\n",
              "      <td>81.000000</td>\n",
              "      <td>1.000000</td>\n",
              "    </tr>\n",
              "  </tbody>\n",
              "</table>\n",
              "</div>"
            ],
            "text/plain": [
              "       No_ts_preg  Plas_gluc_2hrs  ...  Dia_pedi_funct         Age\n",
              "count  768.000000      768.000000  ...      768.000000  768.000000\n",
              "mean   120.894531       69.105469  ...       33.240885    0.348958\n",
              "std     31.972618       19.355807  ...       11.760232    0.476951\n",
              "min      0.000000        0.000000  ...       21.000000    0.000000\n",
              "25%     99.000000       62.000000  ...       24.000000    0.000000\n",
              "50%    117.000000       72.000000  ...       29.000000    0.000000\n",
              "75%    140.250000       80.000000  ...       41.000000    1.000000\n",
              "max    199.000000      122.000000  ...       81.000000    1.000000\n",
              "\n",
              "[8 rows x 8 columns]"
            ]
          },
          "metadata": {
            "tags": []
          },
          "execution_count": 50
        }
      ]
    },
    {
      "cell_type": "markdown",
      "metadata": {
        "id": "LHv6kkIofflY",
        "colab_type": "text"
      },
      "source": [
        "#### missing value"
      ]
    },
    {
      "cell_type": "code",
      "metadata": {
        "id": "Ux9Kva0UIq9K",
        "colab_type": "code",
        "colab": {
          "base_uri": "https://localhost:8080/",
          "height": 752
        },
        "outputId": "409394d1-523a-4aa3-b183-33137b1ac631"
      },
      "source": [
        "import missingno as msno\n",
        "%matplotlib inline\n",
        "msno.matrix(c)"
      ],
      "execution_count": 68,
      "outputs": [
        {
          "output_type": "execute_result",
          "data": {
            "text/plain": [
              "<matplotlib.axes._subplots.AxesSubplot at 0x7f21e1ee0518>"
            ]
          },
          "metadata": {
            "tags": []
          },
          "execution_count": 68
        },
        {
          "output_type": "display_data",
          "data": {
            "image/png": "[encoded data removed]",
            "text/plain": [
              "<Figure size 1800x720 with 2 Axes>"
            ]
          },
          "metadata": {
            "tags": []
          }
        }
      ]
    },
    {
      "cell_type": "code",
      "metadata": {
        "id": "raifYjAnK3mI",
        "colab_type": "code",
        "colab": {
          "base_uri": "https://localhost:8080/",
          "height": 780
        },
        "outputId": "93eeda3a-9737-4599-89b1-305b60c6ba7f"
      },
      "source": [
        "msno.bar(c)"
      ],
      "execution_count": 69,
      "outputs": [
        {
          "output_type": "execute_result",
          "data": {
            "text/plain": [
              "<matplotlib.axes._subplots.AxesSubplot at 0x7f21df65ef60>"
            ]
          },
          "metadata": {
            "tags": []
          },
          "execution_count": 69
        },
        {
          "output_type": "display_data",
          "data": {
            "image/png": "[encoded data removed]",
            "text/plain": [
              "<Figure size 1728x720 with 3 Axes>"
            ]
          },
          "metadata": {
            "tags": []
          }
        }
      ]
    },
    {
      "cell_type": "code",
      "metadata": {
        "id": "681TwhALNJTF",
        "colab_type": "code",
        "colab": {
          "base_uri": "https://localhost:8080/",
          "height": 170
        },
        "outputId": "c80b6029-bb2d-46d5-d789-06703cf4a5ed"
      },
      "source": [
        "c.isnull().sum()"
      ],
      "execution_count": 87,
      "outputs": [
        {
          "output_type": "execute_result",
          "data": {
            "text/plain": [
              "No_ts_preg             0\n",
              "Plas_gluc_2hrs         0\n",
              "Di_blood_press         0\n",
              "Triceps_skin_thickn    0\n",
              "2hrs_ser_insul         0\n",
              "Bdy_mas_ind            0\n",
              "Dia_pedi_funct         0\n",
              "Age                    0\n",
              "dtype: int64"
            ]
          },
          "metadata": {
            "tags": []
          },
          "execution_count": 87
        }
      ]
    },
    {
      "cell_type": "code",
      "metadata": {
        "id": "X3Yo_Usggnpi",
        "colab_type": "code",
        "colab": {}
      },
      "source": [
        "# matrix of numbers using the NumPy function loadtxt()\n",
        "# https://machinelearningmastery.com/tutorial-first-neural-network-python-keras/"
      ],
      "execution_count": 0,
      "outputs": []
    },
    {
      "cell_type": "markdown",
      "metadata": {
        "id": "mGrYbDuNfpcX",
        "colab_type": "text"
      },
      "source": [
        "#### SPLIT THE DATA SET"
      ]
    },
    {
      "cell_type": "code",
      "metadata": {
        "id": "wAda1EY0NrPX",
        "colab_type": "code",
        "colab": {}
      },
      "source": [
        "dataset = loadtxt(PATH, delimiter=',')\n",
        "X = dataset[:,0:8]\n",
        "y = dataset[:,8]"
      ],
      "execution_count": 0,
      "outputs": []
    },
    {
      "cell_type": "code",
      "metadata": {
        "id": "LMKlZbITfucc",
        "colab_type": "code",
        "colab": {}
      },
      "source": [
        ""
      ],
      "execution_count": 0,
      "outputs": []
    },
    {
      "cell_type": "markdown",
      "metadata": {
        "id": "RVL47L8XfvdC",
        "colab_type": "text"
      },
      "source": [
        "#### BUILD THE MODEL "
      ]
    },
    {
      "cell_type": "code",
      "metadata": {
        "id": "fQ7ST4l0QEJN",
        "colab_type": "code",
        "colab": {
          "base_uri": "https://localhost:8080/",
          "height": 136
        },
        "outputId": "0336cf94-8caa-47c7-9d0f-5c9ff26b641f"
      },
      "source": [
        "X"
      ],
      "execution_count": 93,
      "outputs": [
        {
          "output_type": "execute_result",
          "data": {
            "text/plain": [
              "array([[  6.   , 148.   ,  72.   , ...,  33.6  ,   0.627,  50.   ],\n",
              "       [  1.   ,  85.   ,  66.   , ...,  26.6  ,   0.351,  31.   ],\n",
              "       [  8.   , 183.   ,  64.   , ...,  23.3  ,   0.672,  32.   ],\n",
              "       ...,\n",
              "       [  5.   , 121.   ,  72.   , ...,  26.2  ,   0.245,  30.   ],\n",
              "       [  1.   , 126.   ,  60.   , ...,  30.1  ,   0.349,  47.   ],\n",
              "       [  1.   ,  93.   ,  70.   , ...,  30.4  ,   0.315,  23.   ]])"
            ]
          },
          "metadata": {
            "tags": []
          },
          "execution_count": 93
        }
      ]
    },
    {
      "cell_type": "code",
      "metadata": {
        "id": "_DO_sNH1Qepq",
        "colab_type": "code",
        "colab": {
          "base_uri": "https://localhost:8080/",
          "height": 71
        },
        "outputId": "c6a56d10-fb15-4576-94f4-a4adfe0d0c8b"
      },
      "source": [
        "model = Sequential()\n",
        "model.add(Dense(12,input_dim=8, activation = 'relu'))\n",
        "model.add(Dense(8,activation='relu'))\n",
        "model.add(Dense(1,activation='sigmoid'))"
      ],
      "execution_count": 94,
      "outputs": [
        {
          "output_type": "stream",
          "text": [
            "WARNING:tensorflow:From /usr/local/lib/python3.6/dist-packages/keras/backend/tensorflow_backend.py:66: The name tf.get_default_graph is deprecated. Please use tf.compat.v1.get_default_graph instead.\n",
            "\n"
          ],
          "name": "stdout"
        }
      ]
    },
    {
      "cell_type": "markdown",
      "metadata": {
        "id": "kRCT5WLxf5Ra",
        "colab_type": "text"
      },
      "source": [
        "#### Compile"
      ]
    },
    {
      "cell_type": "code",
      "metadata": {
        "id": "ydbNgqd5SAWl",
        "colab_type": "code",
        "colab": {
          "base_uri": "https://localhost:8080/",
          "height": 122
        },
        "outputId": "190708ba-6bb6-4857-bc00-f67d9fbcdf0d"
      },
      "source": [
        "model.compile(loss ='binary_crossentropy',optimizer = 'adam',metrics=['accuracy'])"
      ],
      "execution_count": 95,
      "outputs": [
        {
          "output_type": "stream",
          "text": [
            "WARNING:tensorflow:From /usr/local/lib/python3.6/dist-packages/keras/optimizers.py:793: The name tf.train.Optimizer is deprecated. Please use tf.compat.v1.train.Optimizer instead.\n",
            "\n",
            "WARNING:tensorflow:From /usr/local/lib/python3.6/dist-packages/tensorflow_core/python/ops/nn_impl.py:183: where (from tensorflow.python.ops.array_ops) is deprecated and will be removed in a future version.\n",
            "Instructions for updating:\n",
            "Use tf.where in 2.0, which has the same broadcast rule as np.where\n"
          ],
          "name": "stdout"
        }
      ]
    },
    {
      "cell_type": "markdown",
      "metadata": {
        "id": "Ggr6ueKnf93x",
        "colab_type": "text"
      },
      "source": [
        "#### fit the model"
      ]
    },
    {
      "cell_type": "code",
      "metadata": {
        "id": "ckrZta_ES8Db",
        "colab_type": "code",
        "colab": {
          "base_uri": "https://localhost:8080/",
          "height": 1000
        },
        "outputId": "ba9a306d-9797-4e15-9c71-3cbeebaf35d2"
      },
      "source": [
        "model.fit(X,y, epochs = 150, batch_size = 10)"
      ],
      "execution_count": 97,
      "outputs": [
        {
          "output_type": "stream",
          "text": [
            "Epoch 1/150\n",
            "768/768 [==============================] - 1s 1ms/step - loss: 1.8594 - acc: 0.6120\n",
            "Epoch 2/150\n",
            "768/768 [==============================] - 0s 126us/step - loss: 0.9866 - acc: 0.6484\n",
            "Epoch 3/150\n",
            "768/768 [==============================] - 0s 132us/step - loss: 0.7722 - acc: 0.6354\n",
            "Epoch 4/150\n",
            "768/768 [==============================] - 0s 126us/step - loss: 0.7072 - acc: 0.6263\n",
            "Epoch 5/150\n",
            "768/768 [==============================] - 0s 148us/step - loss: 0.6782 - acc: 0.6289\n",
            "Epoch 6/150\n",
            "768/768 [==============================] - 0s 127us/step - loss: 0.6729 - acc: 0.6354\n",
            "Epoch 7/150\n",
            "768/768 [==============================] - 0s 127us/step - loss: 0.6532 - acc: 0.6458\n",
            "Epoch 8/150\n",
            "768/768 [==============================] - 0s 136us/step - loss: 0.6409 - acc: 0.6536\n",
            "Epoch 9/150\n",
            "768/768 [==============================] - 0s 144us/step - loss: 0.6361 - acc: 0.6549\n",
            "Epoch 10/150\n",
            "768/768 [==============================] - 0s 131us/step - loss: 0.6371 - acc: 0.6667\n",
            "Epoch 11/150\n",
            "768/768 [==============================] - 0s 133us/step - loss: 0.6173 - acc: 0.6680\n",
            "Epoch 12/150\n",
            "768/768 [==============================] - 0s 151us/step - loss: 0.5986 - acc: 0.6836\n",
            "Epoch 13/150\n",
            "768/768 [==============================] - 0s 131us/step - loss: 0.6105 - acc: 0.6680\n",
            "Epoch 14/150\n",
            "768/768 [==============================] - 0s 144us/step - loss: 0.6014 - acc: 0.6836\n",
            "Epoch 15/150\n",
            "768/768 [==============================] - 0s 126us/step - loss: 0.5912 - acc: 0.6862\n",
            "Epoch 16/150\n",
            "768/768 [==============================] - 0s 136us/step - loss: 0.5907 - acc: 0.6836\n",
            "Epoch 17/150\n",
            "768/768 [==============================] - 0s 126us/step - loss: 0.5831 - acc: 0.6901\n",
            "Epoch 18/150\n",
            "768/768 [==============================] - 0s 135us/step - loss: 0.5858 - acc: 0.6810\n",
            "Epoch 19/150\n",
            "768/768 [==============================] - 0s 128us/step - loss: 0.5771 - acc: 0.7044\n",
            "Epoch 20/150\n",
            "768/768 [==============================] - 0s 135us/step - loss: 0.5796 - acc: 0.6875\n",
            "Epoch 21/150\n",
            "768/768 [==============================] - 0s 127us/step - loss: 0.5835 - acc: 0.6823\n",
            "Epoch 22/150\n",
            "768/768 [==============================] - 0s 128us/step - loss: 0.5757 - acc: 0.7096\n",
            "Epoch 23/150\n",
            "768/768 [==============================] - 0s 143us/step - loss: 0.5717 - acc: 0.7044\n",
            "Epoch 24/150\n",
            "768/768 [==============================] - 0s 133us/step - loss: 0.5677 - acc: 0.7148\n",
            "Epoch 25/150\n",
            "768/768 [==============================] - 0s 132us/step - loss: 0.5679 - acc: 0.7161\n",
            "Epoch 26/150\n",
            "768/768 [==============================] - 0s 135us/step - loss: 0.5679 - acc: 0.7031\n",
            "Epoch 27/150\n",
            "768/768 [==============================] - 0s 133us/step - loss: 0.5658 - acc: 0.7057\n",
            "Epoch 28/150\n",
            "768/768 [==============================] - 0s 150us/step - loss: 0.5681 - acc: 0.7122\n",
            "Epoch 29/150\n",
            "768/768 [==============================] - 0s 135us/step - loss: 0.5607 - acc: 0.7122\n",
            "Epoch 30/150\n",
            "768/768 [==============================] - 0s 132us/step - loss: 0.5579 - acc: 0.7161\n",
            "Epoch 31/150\n",
            "768/768 [==============================] - 0s 151us/step - loss: 0.5561 - acc: 0.7018\n",
            "Epoch 32/150\n",
            "768/768 [==============================] - 0s 129us/step - loss: 0.5616 - acc: 0.7096\n",
            "Epoch 33/150\n",
            "768/768 [==============================] - 0s 147us/step - loss: 0.5597 - acc: 0.7174\n",
            "Epoch 34/150\n",
            "768/768 [==============================] - 0s 129us/step - loss: 0.5743 - acc: 0.7188\n",
            "Epoch 35/150\n",
            "768/768 [==============================] - 0s 134us/step - loss: 0.5591 - acc: 0.7070\n",
            "Epoch 36/150\n",
            "768/768 [==============================] - 0s 130us/step - loss: 0.5644 - acc: 0.7148\n",
            "Epoch 37/150\n",
            "768/768 [==============================] - 0s 127us/step - loss: 0.5478 - acc: 0.7214\n",
            "Epoch 38/150\n",
            "768/768 [==============================] - 0s 148us/step - loss: 0.5547 - acc: 0.7240\n",
            "Epoch 39/150\n",
            "768/768 [==============================] - 0s 128us/step - loss: 0.5502 - acc: 0.7070\n",
            "Epoch 40/150\n",
            "768/768 [==============================] - 0s 137us/step - loss: 0.5496 - acc: 0.7201\n",
            "Epoch 41/150\n",
            "768/768 [==============================] - 0s 127us/step - loss: 0.5466 - acc: 0.7188\n",
            "Epoch 42/150\n",
            "768/768 [==============================] - 0s 129us/step - loss: 0.5446 - acc: 0.7279\n",
            "Epoch 43/150\n",
            "768/768 [==============================] - 0s 155us/step - loss: 0.5473 - acc: 0.7292\n",
            "Epoch 44/150\n",
            "768/768 [==============================] - 0s 131us/step - loss: 0.5487 - acc: 0.7135\n",
            "Epoch 45/150\n",
            "768/768 [==============================] - 0s 130us/step - loss: 0.5531 - acc: 0.7083\n",
            "Epoch 46/150\n",
            "768/768 [==============================] - 0s 128us/step - loss: 0.5458 - acc: 0.7174\n",
            "Epoch 47/150\n",
            "768/768 [==============================] - 0s 131us/step - loss: 0.5401 - acc: 0.7227\n",
            "Epoch 48/150\n",
            "768/768 [==============================] - 0s 130us/step - loss: 0.5481 - acc: 0.7227\n",
            "Epoch 49/150\n",
            "768/768 [==============================] - 0s 140us/step - loss: 0.5406 - acc: 0.7292\n",
            "Epoch 50/150\n",
            "768/768 [==============================] - 0s 124us/step - loss: 0.5388 - acc: 0.7188\n",
            "Epoch 51/150\n",
            "768/768 [==============================] - 0s 130us/step - loss: 0.5431 - acc: 0.7318\n",
            "Epoch 52/150\n",
            "768/768 [==============================] - 0s 141us/step - loss: 0.5406 - acc: 0.7148\n",
            "Epoch 53/150\n",
            "768/768 [==============================] - 0s 148us/step - loss: 0.5326 - acc: 0.7305\n",
            "Epoch 54/150\n",
            "768/768 [==============================] - 0s 128us/step - loss: 0.5434 - acc: 0.7279\n",
            "Epoch 55/150\n",
            "768/768 [==============================] - 0s 127us/step - loss: 0.5429 - acc: 0.7266\n",
            "Epoch 56/150\n",
            "768/768 [==============================] - 0s 125us/step - loss: 0.5384 - acc: 0.7135\n",
            "Epoch 57/150\n",
            "768/768 [==============================] - 0s 153us/step - loss: 0.5318 - acc: 0.7292\n",
            "Epoch 58/150\n",
            "768/768 [==============================] - 0s 130us/step - loss: 0.5352 - acc: 0.7188\n",
            "Epoch 59/150\n",
            "768/768 [==============================] - 0s 131us/step - loss: 0.5307 - acc: 0.7357\n",
            "Epoch 60/150\n",
            "768/768 [==============================] - 0s 127us/step - loss: 0.5290 - acc: 0.7292\n",
            "Epoch 61/150\n",
            "768/768 [==============================] - 0s 131us/step - loss: 0.5361 - acc: 0.7318\n",
            "Epoch 62/150\n",
            "768/768 [==============================] - 0s 133us/step - loss: 0.5371 - acc: 0.7279\n",
            "Epoch 63/150\n",
            "768/768 [==============================] - 0s 162us/step - loss: 0.5245 - acc: 0.7305\n",
            "Epoch 64/150\n",
            "768/768 [==============================] - 0s 131us/step - loss: 0.5425 - acc: 0.7161\n",
            "Epoch 65/150\n",
            "768/768 [==============================] - 0s 126us/step - loss: 0.5335 - acc: 0.7370\n",
            "Epoch 66/150\n",
            "768/768 [==============================] - 0s 142us/step - loss: 0.5302 - acc: 0.7318\n",
            "Epoch 67/150\n",
            "768/768 [==============================] - 0s 142us/step - loss: 0.5249 - acc: 0.7344\n",
            "Epoch 68/150\n",
            "768/768 [==============================] - 0s 133us/step - loss: 0.5272 - acc: 0.7292\n",
            "Epoch 69/150\n",
            "768/768 [==============================] - 0s 126us/step - loss: 0.5259 - acc: 0.7383\n",
            "Epoch 70/150\n",
            "768/768 [==============================] - 0s 128us/step - loss: 0.5186 - acc: 0.7227\n",
            "Epoch 71/150\n",
            "768/768 [==============================] - 0s 131us/step - loss: 0.5276 - acc: 0.7318\n",
            "Epoch 72/150\n",
            "768/768 [==============================] - 0s 131us/step - loss: 0.5190 - acc: 0.7357\n",
            "Epoch 73/150\n",
            "768/768 [==============================] - 0s 135us/step - loss: 0.5262 - acc: 0.7266\n",
            "Epoch 74/150\n",
            "768/768 [==============================] - 0s 129us/step - loss: 0.5182 - acc: 0.7344\n",
            "Epoch 75/150\n",
            "768/768 [==============================] - 0s 131us/step - loss: 0.5318 - acc: 0.7383\n",
            "Epoch 76/150\n",
            "768/768 [==============================] - 0s 138us/step - loss: 0.5328 - acc: 0.7253\n",
            "Epoch 77/150\n",
            "768/768 [==============================] - 0s 138us/step - loss: 0.5244 - acc: 0.7383\n",
            "Epoch 78/150\n",
            "768/768 [==============================] - 0s 159us/step - loss: 0.5185 - acc: 0.7422\n",
            "Epoch 79/150\n",
            "768/768 [==============================] - 0s 128us/step - loss: 0.5180 - acc: 0.7448\n",
            "Epoch 80/150\n",
            "768/768 [==============================] - 0s 129us/step - loss: 0.5243 - acc: 0.7331\n",
            "Epoch 81/150\n",
            "768/768 [==============================] - 0s 135us/step - loss: 0.5238 - acc: 0.7357\n",
            "Epoch 82/150\n",
            "768/768 [==============================] - 0s 160us/step - loss: 0.5217 - acc: 0.7318\n",
            "Epoch 83/150\n",
            "768/768 [==============================] - 0s 131us/step - loss: 0.5241 - acc: 0.7318\n",
            "Epoch 84/150\n",
            "768/768 [==============================] - 0s 135us/step - loss: 0.5212 - acc: 0.7344\n",
            "Epoch 85/150\n",
            "768/768 [==============================] - 0s 135us/step - loss: 0.5132 - acc: 0.7331\n",
            "Epoch 86/150\n",
            "768/768 [==============================] - 0s 146us/step - loss: 0.5130 - acc: 0.7461\n",
            "Epoch 87/150\n",
            "768/768 [==============================] - 0s 130us/step - loss: 0.5201 - acc: 0.7422\n",
            "Epoch 88/150\n",
            "768/768 [==============================] - 0s 131us/step - loss: 0.5168 - acc: 0.7383\n",
            "Epoch 89/150\n",
            "768/768 [==============================] - 0s 128us/step - loss: 0.5161 - acc: 0.7331\n",
            "Epoch 90/150\n",
            "768/768 [==============================] - 0s 125us/step - loss: 0.5128 - acc: 0.7396\n",
            "Epoch 91/150\n",
            "768/768 [==============================] - 0s 134us/step - loss: 0.5141 - acc: 0.7370\n",
            "Epoch 92/150\n",
            "768/768 [==============================] - 0s 152us/step - loss: 0.5199 - acc: 0.7331\n",
            "Epoch 93/150\n",
            "768/768 [==============================] - 0s 138us/step - loss: 0.5180 - acc: 0.7552\n",
            "Epoch 94/150\n",
            "768/768 [==============================] - 0s 131us/step - loss: 0.5212 - acc: 0.7422\n",
            "Epoch 95/150\n",
            "768/768 [==============================] - 0s 149us/step - loss: 0.5098 - acc: 0.7474\n",
            "Epoch 96/150\n",
            "768/768 [==============================] - 0s 131us/step - loss: 0.5202 - acc: 0.7344\n",
            "Epoch 97/150\n",
            "768/768 [==============================] - 0s 129us/step - loss: 0.5095 - acc: 0.7435\n",
            "Epoch 98/150\n",
            "768/768 [==============================] - 0s 145us/step - loss: 0.5315 - acc: 0.7370\n",
            "Epoch 99/150\n",
            "768/768 [==============================] - 0s 129us/step - loss: 0.5151 - acc: 0.7344\n",
            "Epoch 100/150\n",
            "768/768 [==============================] - 0s 131us/step - loss: 0.5101 - acc: 0.7422\n",
            "Epoch 101/150\n",
            "768/768 [==============================] - 0s 154us/step - loss: 0.5063 - acc: 0.7539\n",
            "Epoch 102/150\n",
            "768/768 [==============================] - 0s 135us/step - loss: 0.5079 - acc: 0.7539\n",
            "Epoch 103/150\n",
            "768/768 [==============================] - 0s 130us/step - loss: 0.5076 - acc: 0.7500\n",
            "Epoch 104/150\n",
            "768/768 [==============================] - 0s 133us/step - loss: 0.5100 - acc: 0.7305\n",
            "Epoch 105/150\n",
            "768/768 [==============================] - 0s 158us/step - loss: 0.5165 - acc: 0.7552\n",
            "Epoch 106/150\n",
            "768/768 [==============================] - 0s 140us/step - loss: 0.5213 - acc: 0.7461\n",
            "Epoch 107/150\n",
            "768/768 [==============================] - 0s 141us/step - loss: 0.5102 - acc: 0.7396\n",
            "Epoch 108/150\n",
            "768/768 [==============================] - 0s 126us/step - loss: 0.5116 - acc: 0.7396\n",
            "Epoch 109/150\n",
            "768/768 [==============================] - 0s 131us/step - loss: 0.5058 - acc: 0.7448\n",
            "Epoch 110/150\n",
            "768/768 [==============================] - 0s 146us/step - loss: 0.5200 - acc: 0.7331\n",
            "Epoch 111/150\n",
            "768/768 [==============================] - 0s 143us/step - loss: 0.5070 - acc: 0.7487\n",
            "Epoch 112/150\n",
            "768/768 [==============================] - 0s 132us/step - loss: 0.5091 - acc: 0.7331\n",
            "Epoch 113/150\n",
            "768/768 [==============================] - 0s 145us/step - loss: 0.4980 - acc: 0.7578\n",
            "Epoch 114/150\n",
            "768/768 [==============================] - 0s 134us/step - loss: 0.5125 - acc: 0.7344\n",
            "Epoch 115/150\n",
            "768/768 [==============================] - 0s 152us/step - loss: 0.5054 - acc: 0.7474\n",
            "Epoch 116/150\n",
            "768/768 [==============================] - 0s 134us/step - loss: 0.4992 - acc: 0.7565\n",
            "Epoch 117/150\n",
            "768/768 [==============================] - 0s 129us/step - loss: 0.4999 - acc: 0.7565\n",
            "Epoch 118/150\n",
            "768/768 [==============================] - 0s 131us/step - loss: 0.4975 - acc: 0.7630\n",
            "Epoch 119/150\n",
            "768/768 [==============================] - 0s 142us/step - loss: 0.4956 - acc: 0.7526\n",
            "Epoch 120/150\n",
            "768/768 [==============================] - 0s 149us/step - loss: 0.5008 - acc: 0.7513\n",
            "Epoch 121/150\n",
            "768/768 [==============================] - 0s 131us/step - loss: 0.5085 - acc: 0.7487\n",
            "Epoch 122/150\n",
            "768/768 [==============================] - 0s 151us/step - loss: 0.4998 - acc: 0.7474\n",
            "Epoch 123/150\n",
            "768/768 [==============================] - 0s 130us/step - loss: 0.4976 - acc: 0.7513\n",
            "Epoch 124/150\n",
            "768/768 [==============================] - 0s 130us/step - loss: 0.4985 - acc: 0.7435\n",
            "Epoch 125/150\n",
            "768/768 [==============================] - 0s 169us/step - loss: 0.4963 - acc: 0.7513\n",
            "Epoch 126/150\n",
            "768/768 [==============================] - 0s 130us/step - loss: 0.4946 - acc: 0.7513\n",
            "Epoch 127/150\n",
            "768/768 [==============================] - 0s 136us/step - loss: 0.4970 - acc: 0.7552\n",
            "Epoch 128/150\n",
            "768/768 [==============================] - 0s 134us/step - loss: 0.4975 - acc: 0.7656\n",
            "Epoch 129/150\n",
            "768/768 [==============================] - 0s 133us/step - loss: 0.4991 - acc: 0.7461\n",
            "Epoch 130/150\n",
            "768/768 [==============================] - 0s 165us/step - loss: 0.4950 - acc: 0.7539\n",
            "Epoch 131/150\n",
            "768/768 [==============================] - 0s 149us/step - loss: 0.4946 - acc: 0.7526\n",
            "Epoch 132/150\n",
            "768/768 [==============================] - 0s 134us/step - loss: 0.4936 - acc: 0.7565\n",
            "Epoch 133/150\n",
            "768/768 [==============================] - 0s 128us/step - loss: 0.4919 - acc: 0.7578\n",
            "Epoch 134/150\n",
            "768/768 [==============================] - 0s 126us/step - loss: 0.4902 - acc: 0.7643\n",
            "Epoch 135/150\n",
            "768/768 [==============================] - 0s 132us/step - loss: 0.4898 - acc: 0.7604\n",
            "Epoch 136/150\n",
            "768/768 [==============================] - 0s 130us/step - loss: 0.4991 - acc: 0.7526\n",
            "Epoch 137/150\n",
            "768/768 [==============================] - 0s 127us/step - loss: 0.4942 - acc: 0.7448\n",
            "Epoch 138/150\n",
            "768/768 [==============================] - 0s 131us/step - loss: 0.4980 - acc: 0.7500\n",
            "Epoch 139/150\n",
            "768/768 [==============================] - 0s 162us/step - loss: 0.4966 - acc: 0.7513\n",
            "Epoch 140/150\n",
            "768/768 [==============================] - 0s 123us/step - loss: 0.4866 - acc: 0.7539\n",
            "Epoch 141/150\n",
            "768/768 [==============================] - 0s 132us/step - loss: 0.4929 - acc: 0.7578\n",
            "Epoch 142/150\n",
            "768/768 [==============================] - 0s 147us/step - loss: 0.4976 - acc: 0.7552\n",
            "Epoch 143/150\n",
            "768/768 [==============================] - 0s 127us/step - loss: 0.4905 - acc: 0.7617\n",
            "Epoch 144/150\n",
            "768/768 [==============================] - 0s 132us/step - loss: 0.4914 - acc: 0.7578\n",
            "Epoch 145/150\n",
            "768/768 [==============================] - 0s 127us/step - loss: 0.4905 - acc: 0.7643\n",
            "Epoch 146/150\n",
            "768/768 [==============================] - 0s 131us/step - loss: 0.4938 - acc: 0.7487\n",
            "Epoch 147/150\n",
            "768/768 [==============================] - 0s 137us/step - loss: 0.4904 - acc: 0.7578\n",
            "Epoch 148/150\n",
            "768/768 [==============================] - 0s 149us/step - loss: 0.4877 - acc: 0.7565\n",
            "Epoch 149/150\n",
            "768/768 [==============================] - 0s 143us/step - loss: 0.4874 - acc: 0.7578\n",
            "Epoch 150/150\n",
            "768/768 [==============================] - 0s 146us/step - loss: 0.4924 - acc: 0.7552\n"
          ],
          "name": "stdout"
        },
        {
          "output_type": "execute_result",
          "data": {
            "text/plain": [
              "<keras.callbacks.History at 0x7f21db7fef28>"
            ]
          },
          "metadata": {
            "tags": []
          },
          "execution_count": 97
        }
      ]
    },
    {
      "cell_type": "markdown",
      "metadata": {
        "id": "KF30uupWgGTP",
        "colab_type": "text"
      },
      "source": [
        "#### Evaluate the model"
      ]
    },
    {
      "cell_type": "code",
      "metadata": {
        "id": "FuoJwF7jTMHx",
        "colab_type": "code",
        "colab": {}
      },
      "source": [
        "_, accuracy = model.evaluate(X,y, verbose=0)"
      ],
      "execution_count": 0,
      "outputs": []
    },
    {
      "cell_type": "code",
      "metadata": {
        "id": "W_hlvTg5TvOW",
        "colab_type": "code",
        "colab": {
          "base_uri": "https://localhost:8080/",
          "height": 34
        },
        "outputId": "4cf7312f-0019-4999-e9f8-806afe0ca910"
      },
      "source": [
        "print('Accuracy:%.2F'%(accuracy*100))"
      ],
      "execution_count": 112,
      "outputs": [
        {
          "output_type": "stream",
          "text": [
            "Accuracy:76.56\n"
          ],
          "name": "stdout"
        }
      ]
    },
    {
      "cell_type": "markdown",
      "metadata": {
        "id": "Ddt_kVMfgO_f",
        "colab_type": "text"
      },
      "source": [
        "#### MAking predictions "
      ]
    },
    {
      "cell_type": "code",
      "metadata": {
        "id": "_A2iQNHlUBVc",
        "colab_type": "code",
        "colab": {}
      },
      "source": [
        "predictions = model.predict(X)\n",
        "rounded = [round(x[0]) for x in predictions]"
      ],
      "execution_count": 0,
      "outputs": []
    },
    {
      "cell_type": "code",
      "metadata": {
        "id": "Mdx3D7O4VBg-",
        "colab_type": "code",
        "colab": {}
      },
      "source": [
        "predictions = model.predict_classes(X)"
      ],
      "execution_count": 0,
      "outputs": []
    },
    {
      "cell_type": "code",
      "metadata": {
        "id": "KBAMKo4CVIx9",
        "colab_type": "code",
        "colab": {
          "base_uri": "https://localhost:8080/",
          "height": 102
        },
        "outputId": "b34e7eff-3c21-408c-8924-728f48701515"
      },
      "source": [
        "for i in range(5):\n",
        "\tprint('%s => %d (expected %d)' % (X[i].tolist(), predictions[i], y[i]))"
      ],
      "execution_count": 115,
      "outputs": [
        {
          "output_type": "stream",
          "text": [
            "[6.0, 148.0, 72.0, 35.0, 0.0, 33.6, 0.627, 50.0] => 1 (expected 1)\n",
            "[1.0, 85.0, 66.0, 29.0, 0.0, 26.6, 0.351, 31.0] => 0 (expected 0)\n",
            "[8.0, 183.0, 64.0, 0.0, 0.0, 23.3, 0.672, 32.0] => 1 (expected 1)\n",
            "[1.0, 89.0, 66.0, 23.0, 94.0, 28.1, 0.167, 21.0] => 0 (expected 0)\n",
            "[0.0, 137.0, 40.0, 35.0, 168.0, 43.1, 2.288, 33.0] => 1 (expected 1)\n"
          ],
          "name": "stdout"
        }
      ]
    },
    {
      "cell_type": "code",
      "metadata": {
        "id": "qwA52lIcVmWk",
        "colab_type": "code",
        "colab": {
          "base_uri": "https://localhost:8080/",
          "height": 34
        },
        "outputId": "13ffde20-65dd-4f30-9c2a-e62dd30278f1"
      },
      "source": [
        "from sklearn.datasets.samples_generator import make_blobs\n",
        "print(\"X=%s, Predicted=%s\" % (X[1], y[1]))"
      ],
      "execution_count": 122,
      "outputs": [
        {
          "output_type": "stream",
          "text": [
            "X=[ 1.    85.    66.    29.     0.    26.6    0.351 31.   ], Predicted=0.0\n"
          ],
          "name": "stdout"
        }
      ]
    },
    {
      "cell_type": "code",
      "metadata": {
        "id": "hw37R54fZor1",
        "colab_type": "code",
        "colab": {
          "base_uri": "https://localhost:8080/",
          "height": 153
        },
        "outputId": "e1f1a666-be69-4a71-e9e3-62b26381f66f"
      },
      "source": [
        "for i in range(len(X[10])):\n",
        "\tprint(\"X=%s, Predicted=%s\" % (X[i], y[i]))"
      ],
      "execution_count": 126,
      "outputs": [
        {
          "output_type": "stream",
          "text": [
            "X=[  6.    148.     72.     35.      0.     33.6     0.627  50.   ], Predicted=1.0\n",
            "X=[ 1.    85.    66.    29.     0.    26.6    0.351 31.   ], Predicted=0.0\n",
            "X=[  8.    183.     64.      0.      0.     23.3     0.672  32.   ], Predicted=1.0\n",
            "X=[ 1.    89.    66.    23.    94.    28.1    0.167 21.   ], Predicted=0.0\n",
            "X=[  0.    137.     40.     35.    168.     43.1     2.288  33.   ], Predicted=1.0\n",
            "X=[  5.    116.     74.      0.      0.     25.6     0.201  30.   ], Predicted=0.0\n",
            "X=[ 3.    78.    50.    32.    88.    31.     0.248 26.   ], Predicted=1.0\n",
            "X=[ 10.    115.      0.      0.      0.     35.3     0.134  29.   ], Predicted=0.0\n"
          ],
          "name": "stdout"
        }
      ]
    },
    {
      "cell_type": "code",
      "metadata": {
        "id": "_fyEEtQOcXOf",
        "colab_type": "code",
        "colab": {}
      },
      "source": [
        "# Reference: #### https://machinelearningmastery.com/tutorial-first-neural-network-python-keras/"
      ],
      "execution_count": 0,
      "outputs": []
    },
    {
      "cell_type": "code",
      "metadata": {
        "id": "KsgdzWNbgycz",
        "colab_type": "code",
        "colab": {}
      },
      "source": [
        ""
      ],
      "execution_count": 0,
      "outputs": []
    }
  ]
}